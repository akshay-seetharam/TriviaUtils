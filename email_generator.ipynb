{
 "cells": [
  {
   "cell_type": "markdown",
   "source": [
    "- American Legion Auxiliary through Mia T\n",
    "- National Center for Women and Informational Technology through Mia T\n",
    "- Follow up on WomenCount\n",
    "- Follow up on Casa de las Madres\n",
    "- Kids Teach Tech through Arjun M\n",
    "- Jaipur Foot USA through Ajay T\n",
    "- BIAC Rowing through Ajay T\n",
    "- Atticus Project through Willow Teter\n",
    "- MIT Code for Good through Lauren\n",
    "- CS4Girls through Lauren\n",
    "- Girls Who Code through Lauren\n",
    "- StreetCode Academy through Lauren\n",
    "- San Mateo Public Library through Lauren\n",
    "- Food Not Bombs through Powell\n",
    "- San Francisco Public Defender's Office\n",
    "- Ro Khanna through Powell\n",
    "- Equality Now through Riyana\n",
    "- Cookies for COVID through Riyana\n",
    "- Peninsula Bridge through Riyana\n",
    "- Coalition Z through Riyana"
   ],
   "metadata": {
    "collapsed": false,
    "pycharm": {
     "name": "#%% md\n"
    }
   }
  }
 ],
 "metadata": {
  "kernelspec": {
   "display_name": "Python 3",
   "language": "python",
   "name": "python3"
  },
  "language_info": {
   "codemirror_mode": {
    "name": "ipython",
    "version": 2
   },
   "file_extension": ".py",
   "mimetype": "text/x-python",
   "name": "python",
   "nbconvert_exporter": "python",
   "pygments_lexer": "ipython2",
   "version": "2.7.6"
  }
 },
 "nbformat": 4,
 "nbformat_minor": 0
}