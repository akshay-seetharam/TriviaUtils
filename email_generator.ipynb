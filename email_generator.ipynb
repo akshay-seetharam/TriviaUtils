{
 "cells": [
  {
   "cell_type": "markdown",
   "metadata": {
    "pycharm": {
     "name": "#%% md\n"
    }
   },
   "source": [
    "- American Legion Auxiliary through Mia T\n",
    "- National Center for Women and Informational Technology through Mia T\n",
    "- Follow up on WomenCount through Anahita, Riyana, and Rohan\n",
    "- Follow up on Casa de las Madres through Anahita and Eliza\n",
    "- Kids Teach Tech through Arjun M\n",
    "- Jaipur Foot USA through Ajay T\n",
    "- BIAC Rowing through Ajay T\n",
    "- Atticus Project through Willow Teter\n",
    "- MIT Code for Good through Lauren\n",
    "- CS4Girls through Lauren\n",
    "- Girls Who Code through Lauren\n",
    "- StreetCode Academy through Lauren\n",
    "- San Mateo Public Library through Lauren\n",
    "- Food Not Bombs through Powell\n",
    "- San Francisco Public Defender's Office\n",
    "- Ro Khanna through Powell\n",
    "- Equality Now through Riyana\n",
    "- Cookies for COVID through Riyana\n",
    "- Peninsula Bridge through Riyana\n",
    "- Coalition Z through Riyana"
   ]
  },
  {
   "cell_type": "code",
   "execution_count": 1,
   "metadata": {
    "pycharm": {
     "name": "#%%\n"
    }
   },
   "outputs": [
    {
     "data": {
      "text/plain": "\u001B[1;35mValueError\u001B[0m\u001B[1m(\u001B[0m\u001B[32m'substring not found'\u001B[0m\u001B[1m)\u001B[0m\n",
      "text/html": "<pre style=\"white-space:pre;overflow-x:auto;line-height:normal;font-family:Menlo,'DejaVu Sans Mono',consolas,'Courier New',monospace\"><span style=\"color: #800080; text-decoration-color: #800080; font-weight: bold\">ValueError</span><span style=\"font-weight: bold\">(</span><span style=\"color: #008000; text-decoration-color: #008000\">'substring not found'</span><span style=\"font-weight: bold\">)</span>\n</pre>\n"
     },
     "metadata": {},
     "output_type": "display_data"
    },
    {
     "data": {
      "text/plain": "\u001B[1;35mValueError\u001B[0m\u001B[1m(\u001B[0m\u001B[32m'substring not found'\u001B[0m\u001B[1m)\u001B[0m\n",
      "text/html": "<pre style=\"white-space:pre;overflow-x:auto;line-height:normal;font-family:Menlo,'DejaVu Sans Mono',consolas,'Courier New',monospace\"><span style=\"color: #800080; text-decoration-color: #800080; font-weight: bold\">ValueError</span><span style=\"font-weight: bold\">(</span><span style=\"color: #008000; text-decoration-color: #008000\">'substring not found'</span><span style=\"font-weight: bold\">)</span>\n</pre>\n"
     },
     "metadata": {},
     "output_type": "display_data"
    },
    {
     "data": {
      "text/plain": "\u001B[1m{\u001B[0m\n\u001B[2;32m│   \u001B[0m\u001B[32m'American Legion Auxiliary '\u001B[0m: \u001B[32m'Mia Tavares'\u001B[0m,\n\u001B[2;32m│   \u001B[0m\u001B[32m'National Center for Women and Informational Technology '\u001B[0m: \u001B[32m'Mia Tavares'\u001B[0m,\n\u001B[2;32m│   \u001B[0m\u001B[32m'Follow up on WomenCount '\u001B[0m: \u001B[32m'Anahita Asudani, Riyana Srihari, and Rohan Sachdev'\u001B[0m,\n\u001B[2;32m│   \u001B[0m\u001B[32m'Follow up on Casa de las Madres '\u001B[0m: \u001B[32m'Anahita Asudani and Eliza Sanders'\u001B[0m,\n\u001B[2;32m│   \u001B[0m\u001B[32m'Kids Teach Tech '\u001B[0m: \u001B[32m'Arjun Mulchandani'\u001B[0m,\n\u001B[2;32m│   \u001B[0m\u001B[32m'Jaipur Foot USA '\u001B[0m: \u001B[32m'Ajay Tadinada'\u001B[0m,\n\u001B[2;32m│   \u001B[0m\u001B[32m'BIAC Rowing '\u001B[0m: \u001B[32m'Ajay Tadinada'\u001B[0m,\n\u001B[2;32m│   \u001B[0m\u001B[32m'Atticus Project '\u001B[0m: \u001B[32m'Willow Teter'\u001B[0m,\n\u001B[2;32m│   \u001B[0m\u001B[32m'MIT Code for Good '\u001B[0m: \u001B[32m'Lauren Sze Wong'\u001B[0m,\n\u001B[2;32m│   \u001B[0m\u001B[32m'CS4Girls '\u001B[0m: \u001B[32m'Lauren Sze Wong'\u001B[0m,\n\u001B[2;32m│   \u001B[0m\u001B[32m'Girls Who Code '\u001B[0m: \u001B[32m'Lauren Sze Wong'\u001B[0m,\n\u001B[2;32m│   \u001B[0m\u001B[32m'StreetCode Academy '\u001B[0m: \u001B[32m'Lauren Sze Wong'\u001B[0m,\n\u001B[2;32m│   \u001B[0m\u001B[32m'San Mateo Public Library '\u001B[0m: \u001B[32m'Lauren Sze Wong'\u001B[0m,\n\u001B[2;32m│   \u001B[0m\u001B[32m'Food Not Bombs '\u001B[0m: \u001B[32m'Powell Mathewson'\u001B[0m,\n\u001B[2;32m│   \u001B[0m\u001B[32m'Ro Khanna '\u001B[0m: \u001B[32m'Powell'\u001B[0m,\n\u001B[2;32m│   \u001B[0m\u001B[32m'Equality Now '\u001B[0m: \u001B[32m'Riyana'\u001B[0m,\n\u001B[2;32m│   \u001B[0m\u001B[32m'Cookies for COVID '\u001B[0m: \u001B[32m'Riyana'\u001B[0m,\n\u001B[2;32m│   \u001B[0m\u001B[32m'Peninsula Bridge '\u001B[0m: \u001B[32m'Riyana'\u001B[0m\n\u001B[1m}\u001B[0m\n",
      "text/html": "<pre style=\"white-space:pre;overflow-x:auto;line-height:normal;font-family:Menlo,'DejaVu Sans Mono',consolas,'Courier New',monospace\"><span style=\"font-weight: bold\">{</span>\n<span style=\"color: #7fbf7f; text-decoration-color: #7fbf7f\">│   </span><span style=\"color: #008000; text-decoration-color: #008000\">'American Legion Auxiliary '</span>: <span style=\"color: #008000; text-decoration-color: #008000\">'Mia Tavares'</span>,\n<span style=\"color: #7fbf7f; text-decoration-color: #7fbf7f\">│   </span><span style=\"color: #008000; text-decoration-color: #008000\">'National Center for Women and Informational Technology '</span>: <span style=\"color: #008000; text-decoration-color: #008000\">'Mia Tavares'</span>,\n<span style=\"color: #7fbf7f; text-decoration-color: #7fbf7f\">│   </span><span style=\"color: #008000; text-decoration-color: #008000\">'Follow up on WomenCount '</span>: <span style=\"color: #008000; text-decoration-color: #008000\">'Anahita Asudani, Riyana Srihari, and Rohan Sachdev'</span>,\n<span style=\"color: #7fbf7f; text-decoration-color: #7fbf7f\">│   </span><span style=\"color: #008000; text-decoration-color: #008000\">'Follow up on Casa de las Madres '</span>: <span style=\"color: #008000; text-decoration-color: #008000\">'Anahita Asudani and Eliza Sanders'</span>,\n<span style=\"color: #7fbf7f; text-decoration-color: #7fbf7f\">│   </span><span style=\"color: #008000; text-decoration-color: #008000\">'Kids Teach Tech '</span>: <span style=\"color: #008000; text-decoration-color: #008000\">'Arjun Mulchandani'</span>,\n<span style=\"color: #7fbf7f; text-decoration-color: #7fbf7f\">│   </span><span style=\"color: #008000; text-decoration-color: #008000\">'Jaipur Foot USA '</span>: <span style=\"color: #008000; text-decoration-color: #008000\">'Ajay Tadinada'</span>,\n<span style=\"color: #7fbf7f; text-decoration-color: #7fbf7f\">│   </span><span style=\"color: #008000; text-decoration-color: #008000\">'BIAC Rowing '</span>: <span style=\"color: #008000; text-decoration-color: #008000\">'Ajay Tadinada'</span>,\n<span style=\"color: #7fbf7f; text-decoration-color: #7fbf7f\">│   </span><span style=\"color: #008000; text-decoration-color: #008000\">'Atticus Project '</span>: <span style=\"color: #008000; text-decoration-color: #008000\">'Willow Teter'</span>,\n<span style=\"color: #7fbf7f; text-decoration-color: #7fbf7f\">│   </span><span style=\"color: #008000; text-decoration-color: #008000\">'MIT Code for Good '</span>: <span style=\"color: #008000; text-decoration-color: #008000\">'Lauren Sze Wong'</span>,\n<span style=\"color: #7fbf7f; text-decoration-color: #7fbf7f\">│   </span><span style=\"color: #008000; text-decoration-color: #008000\">'CS4Girls '</span>: <span style=\"color: #008000; text-decoration-color: #008000\">'Lauren Sze Wong'</span>,\n<span style=\"color: #7fbf7f; text-decoration-color: #7fbf7f\">│   </span><span style=\"color: #008000; text-decoration-color: #008000\">'Girls Who Code '</span>: <span style=\"color: #008000; text-decoration-color: #008000\">'Lauren Sze Wong'</span>,\n<span style=\"color: #7fbf7f; text-decoration-color: #7fbf7f\">│   </span><span style=\"color: #008000; text-decoration-color: #008000\">'StreetCode Academy '</span>: <span style=\"color: #008000; text-decoration-color: #008000\">'Lauren Sze Wong'</span>,\n<span style=\"color: #7fbf7f; text-decoration-color: #7fbf7f\">│   </span><span style=\"color: #008000; text-decoration-color: #008000\">'San Mateo Public Library '</span>: <span style=\"color: #008000; text-decoration-color: #008000\">'Lauren Sze Wong'</span>,\n<span style=\"color: #7fbf7f; text-decoration-color: #7fbf7f\">│   </span><span style=\"color: #008000; text-decoration-color: #008000\">'Food Not Bombs '</span>: <span style=\"color: #008000; text-decoration-color: #008000\">'Powell Mathewson'</span>,\n<span style=\"color: #7fbf7f; text-decoration-color: #7fbf7f\">│   </span><span style=\"color: #008000; text-decoration-color: #008000\">'Ro Khanna '</span>: <span style=\"color: #008000; text-decoration-color: #008000\">'Powell'</span>,\n<span style=\"color: #7fbf7f; text-decoration-color: #7fbf7f\">│   </span><span style=\"color: #008000; text-decoration-color: #008000\">'Equality Now '</span>: <span style=\"color: #008000; text-decoration-color: #008000\">'Riyana'</span>,\n<span style=\"color: #7fbf7f; text-decoration-color: #7fbf7f\">│   </span><span style=\"color: #008000; text-decoration-color: #008000\">'Cookies for COVID '</span>: <span style=\"color: #008000; text-decoration-color: #008000\">'Riyana'</span>,\n<span style=\"color: #7fbf7f; text-decoration-color: #7fbf7f\">│   </span><span style=\"color: #008000; text-decoration-color: #008000\">'Peninsula Bridge '</span>: <span style=\"color: #008000; text-decoration-color: #008000\">'Riyana'</span>\n<span style=\"font-weight: bold\">}</span>\n</pre>\n"
     },
     "metadata": {},
     "output_type": "display_data"
    },
    {
     "data": {
      "text/plain": "\u001B[1m[\u001B[0m\n\u001B[2;32m│   \u001B[0m\u001B[1m(\u001B[0m\u001B[32m'Mia Tavares'\u001B[0m, \u001B[32m'American Legion Auxiliary '\u001B[0m\u001B[1m)\u001B[0m,\n\u001B[2;32m│   \u001B[0m\u001B[1m(\u001B[0m\u001B[32m'Mia Tavares'\u001B[0m, \u001B[32m'National Center for Women and Informational Technology '\u001B[0m\u001B[1m)\u001B[0m,\n\u001B[2;32m│   \u001B[0m\u001B[1m(\u001B[0m\u001B[32m'Anahita Asudani, Riyana Srihari, and Rohan Sachdev'\u001B[0m, \u001B[32m'Follow up on WomenCount '\u001B[0m\u001B[1m)\u001B[0m,\n\u001B[2;32m│   \u001B[0m\u001B[1m(\u001B[0m\u001B[32m'Anahita Asudani and Eliza Sanders'\u001B[0m, \u001B[32m'Follow up on Casa de las Madres '\u001B[0m\u001B[1m)\u001B[0m,\n\u001B[2;32m│   \u001B[0m\u001B[1m(\u001B[0m\u001B[32m'Arjun Mulchandani'\u001B[0m, \u001B[32m'Kids Teach Tech '\u001B[0m\u001B[1m)\u001B[0m,\n\u001B[2;32m│   \u001B[0m\u001B[1m(\u001B[0m\u001B[32m'Ajay Tadinada'\u001B[0m, \u001B[32m'Jaipur Foot USA '\u001B[0m\u001B[1m)\u001B[0m,\n\u001B[2;32m│   \u001B[0m\u001B[1m(\u001B[0m\u001B[32m'Ajay Tadinada'\u001B[0m, \u001B[32m'BIAC Rowing '\u001B[0m\u001B[1m)\u001B[0m,\n\u001B[2;32m│   \u001B[0m\u001B[1m(\u001B[0m\u001B[32m'Willow Teter'\u001B[0m, \u001B[32m'Atticus Project '\u001B[0m\u001B[1m)\u001B[0m,\n\u001B[2;32m│   \u001B[0m\u001B[1m(\u001B[0m\u001B[32m'Lauren Sze Wong'\u001B[0m, \u001B[32m'MIT Code for Good '\u001B[0m\u001B[1m)\u001B[0m,\n\u001B[2;32m│   \u001B[0m\u001B[1m(\u001B[0m\u001B[32m'Lauren Sze Wong'\u001B[0m, \u001B[32m'CS4Girls '\u001B[0m\u001B[1m)\u001B[0m,\n\u001B[2;32m│   \u001B[0m\u001B[1m(\u001B[0m\u001B[32m'Lauren Sze Wong'\u001B[0m, \u001B[32m'Girls Who Code '\u001B[0m\u001B[1m)\u001B[0m,\n\u001B[2;32m│   \u001B[0m\u001B[1m(\u001B[0m\u001B[32m'Lauren Sze Wong'\u001B[0m, \u001B[32m'StreetCode Academy '\u001B[0m\u001B[1m)\u001B[0m,\n\u001B[2;32m│   \u001B[0m\u001B[1m(\u001B[0m\u001B[32m'Lauren Sze Wong'\u001B[0m, \u001B[32m'San Mateo Public Library '\u001B[0m\u001B[1m)\u001B[0m,\n\u001B[2;32m│   \u001B[0m\u001B[1m(\u001B[0m\u001B[32m'Powell Mathewson'\u001B[0m, \u001B[32m'Food Not Bombs '\u001B[0m\u001B[1m)\u001B[0m,\n\u001B[2;32m│   \u001B[0m\u001B[1m(\u001B[0m\u001B[32m'Powell'\u001B[0m, \u001B[32m'Ro Khanna '\u001B[0m\u001B[1m)\u001B[0m,\n\u001B[2;32m│   \u001B[0m\u001B[1m(\u001B[0m\u001B[32m'Riyana'\u001B[0m, \u001B[32m'Equality Now '\u001B[0m\u001B[1m)\u001B[0m,\n\u001B[2;32m│   \u001B[0m\u001B[1m(\u001B[0m\u001B[32m'Riyana'\u001B[0m, \u001B[32m'Cookies for COVID '\u001B[0m\u001B[1m)\u001B[0m,\n\u001B[2;32m│   \u001B[0m\u001B[1m(\u001B[0m\u001B[32m'Riyana'\u001B[0m, \u001B[32m'Peninsula Bridge '\u001B[0m\u001B[1m)\u001B[0m\n\u001B[1m]\u001B[0m\n",
      "text/html": "<pre style=\"white-space:pre;overflow-x:auto;line-height:normal;font-family:Menlo,'DejaVu Sans Mono',consolas,'Courier New',monospace\"><span style=\"font-weight: bold\">[</span>\n<span style=\"color: #7fbf7f; text-decoration-color: #7fbf7f\">│   </span><span style=\"font-weight: bold\">(</span><span style=\"color: #008000; text-decoration-color: #008000\">'Mia Tavares'</span>, <span style=\"color: #008000; text-decoration-color: #008000\">'American Legion Auxiliary '</span><span style=\"font-weight: bold\">)</span>,\n<span style=\"color: #7fbf7f; text-decoration-color: #7fbf7f\">│   </span><span style=\"font-weight: bold\">(</span><span style=\"color: #008000; text-decoration-color: #008000\">'Mia Tavares'</span>, <span style=\"color: #008000; text-decoration-color: #008000\">'National Center for Women and Informational Technology '</span><span style=\"font-weight: bold\">)</span>,\n<span style=\"color: #7fbf7f; text-decoration-color: #7fbf7f\">│   </span><span style=\"font-weight: bold\">(</span><span style=\"color: #008000; text-decoration-color: #008000\">'Anahita Asudani, Riyana Srihari, and Rohan Sachdev'</span>, <span style=\"color: #008000; text-decoration-color: #008000\">'Follow up on WomenCount '</span><span style=\"font-weight: bold\">)</span>,\n<span style=\"color: #7fbf7f; text-decoration-color: #7fbf7f\">│   </span><span style=\"font-weight: bold\">(</span><span style=\"color: #008000; text-decoration-color: #008000\">'Anahita Asudani and Eliza Sanders'</span>, <span style=\"color: #008000; text-decoration-color: #008000\">'Follow up on Casa de las Madres '</span><span style=\"font-weight: bold\">)</span>,\n<span style=\"color: #7fbf7f; text-decoration-color: #7fbf7f\">│   </span><span style=\"font-weight: bold\">(</span><span style=\"color: #008000; text-decoration-color: #008000\">'Arjun Mulchandani'</span>, <span style=\"color: #008000; text-decoration-color: #008000\">'Kids Teach Tech '</span><span style=\"font-weight: bold\">)</span>,\n<span style=\"color: #7fbf7f; text-decoration-color: #7fbf7f\">│   </span><span style=\"font-weight: bold\">(</span><span style=\"color: #008000; text-decoration-color: #008000\">'Ajay Tadinada'</span>, <span style=\"color: #008000; text-decoration-color: #008000\">'Jaipur Foot USA '</span><span style=\"font-weight: bold\">)</span>,\n<span style=\"color: #7fbf7f; text-decoration-color: #7fbf7f\">│   </span><span style=\"font-weight: bold\">(</span><span style=\"color: #008000; text-decoration-color: #008000\">'Ajay Tadinada'</span>, <span style=\"color: #008000; text-decoration-color: #008000\">'BIAC Rowing '</span><span style=\"font-weight: bold\">)</span>,\n<span style=\"color: #7fbf7f; text-decoration-color: #7fbf7f\">│   </span><span style=\"font-weight: bold\">(</span><span style=\"color: #008000; text-decoration-color: #008000\">'Willow Teter'</span>, <span style=\"color: #008000; text-decoration-color: #008000\">'Atticus Project '</span><span style=\"font-weight: bold\">)</span>,\n<span style=\"color: #7fbf7f; text-decoration-color: #7fbf7f\">│   </span><span style=\"font-weight: bold\">(</span><span style=\"color: #008000; text-decoration-color: #008000\">'Lauren Sze Wong'</span>, <span style=\"color: #008000; text-decoration-color: #008000\">'MIT Code for Good '</span><span style=\"font-weight: bold\">)</span>,\n<span style=\"color: #7fbf7f; text-decoration-color: #7fbf7f\">│   </span><span style=\"font-weight: bold\">(</span><span style=\"color: #008000; text-decoration-color: #008000\">'Lauren Sze Wong'</span>, <span style=\"color: #008000; text-decoration-color: #008000\">'CS4Girls '</span><span style=\"font-weight: bold\">)</span>,\n<span style=\"color: #7fbf7f; text-decoration-color: #7fbf7f\">│   </span><span style=\"font-weight: bold\">(</span><span style=\"color: #008000; text-decoration-color: #008000\">'Lauren Sze Wong'</span>, <span style=\"color: #008000; text-decoration-color: #008000\">'Girls Who Code '</span><span style=\"font-weight: bold\">)</span>,\n<span style=\"color: #7fbf7f; text-decoration-color: #7fbf7f\">│   </span><span style=\"font-weight: bold\">(</span><span style=\"color: #008000; text-decoration-color: #008000\">'Lauren Sze Wong'</span>, <span style=\"color: #008000; text-decoration-color: #008000\">'StreetCode Academy '</span><span style=\"font-weight: bold\">)</span>,\n<span style=\"color: #7fbf7f; text-decoration-color: #7fbf7f\">│   </span><span style=\"font-weight: bold\">(</span><span style=\"color: #008000; text-decoration-color: #008000\">'Lauren Sze Wong'</span>, <span style=\"color: #008000; text-decoration-color: #008000\">'San Mateo Public Library '</span><span style=\"font-weight: bold\">)</span>,\n<span style=\"color: #7fbf7f; text-decoration-color: #7fbf7f\">│   </span><span style=\"font-weight: bold\">(</span><span style=\"color: #008000; text-decoration-color: #008000\">'Powell Mathewson'</span>, <span style=\"color: #008000; text-decoration-color: #008000\">'Food Not Bombs '</span><span style=\"font-weight: bold\">)</span>,\n<span style=\"color: #7fbf7f; text-decoration-color: #7fbf7f\">│   </span><span style=\"font-weight: bold\">(</span><span style=\"color: #008000; text-decoration-color: #008000\">'Powell'</span>, <span style=\"color: #008000; text-decoration-color: #008000\">'Ro Khanna '</span><span style=\"font-weight: bold\">)</span>,\n<span style=\"color: #7fbf7f; text-decoration-color: #7fbf7f\">│   </span><span style=\"font-weight: bold\">(</span><span style=\"color: #008000; text-decoration-color: #008000\">'Riyana'</span>, <span style=\"color: #008000; text-decoration-color: #008000\">'Equality Now '</span><span style=\"font-weight: bold\">)</span>,\n<span style=\"color: #7fbf7f; text-decoration-color: #7fbf7f\">│   </span><span style=\"font-weight: bold\">(</span><span style=\"color: #008000; text-decoration-color: #008000\">'Riyana'</span>, <span style=\"color: #008000; text-decoration-color: #008000\">'Cookies for COVID '</span><span style=\"font-weight: bold\">)</span>,\n<span style=\"color: #7fbf7f; text-decoration-color: #7fbf7f\">│   </span><span style=\"font-weight: bold\">(</span><span style=\"color: #008000; text-decoration-color: #008000\">'Riyana'</span>, <span style=\"color: #008000; text-decoration-color: #008000\">'Peninsula Bridge '</span><span style=\"font-weight: bold\">)</span>\n<span style=\"font-weight: bold\">]</span>\n</pre>\n"
     },
     "metadata": {},
     "output_type": "display_data"
    }
   ],
   "source": [
    "from rich.pretty import pprint\n",
    "\n",
    "with open('organizations.txt', 'r') as f:\n",
    "    lines = f.readlines()\n",
    "orgs = []\n",
    "contacts = []\n",
    "for i in lines:\n",
    "    # pprint(i)\n",
    "    try:\n",
    "        orgs.append(i[i.rindex('- ') + 2:i.rindex('through')])\n",
    "        contacts.append(i[i.rindex('gh ') + 3:i.rindex('\\n')])\n",
    "    except Exception as e:\n",
    "        pprint(e)\n",
    "orgs_cons = dict(zip(orgs, contacts))\n",
    "pprint(orgs_cons)\n",
    "\n",
    "cons_orgs = list(zip(contacts, orgs))\n",
    "pprint(cons_orgs)"
   ]
  },
  {
   "cell_type": "code",
   "execution_count": 2,
   "outputs": [],
   "source": [
    "for i in cons_orgs:\n",
    "    name = input(f'Name(s) for {i}: ')\n",
    "    if name == 'break':\n",
    "        raise(Exception('Genie does as you wish'))\n",
    "        print(f\"Greetings {name},\\n\\nNueva Trivia Club is planning to run a series of trivia competitions with all proceeds going to charity. We think {i[1]} would be a good fit for what we're trying to do. You can find more information on https://nuevatrivia.org. The most recent organization we partnered with was the Leukemia and Lymphoma Society; we held 4 events and raised several hundred dollars.\\n\\nIf you are interested in learning more and moving forward, let us know by emailing us at <triviaclub.nueva@gmail.com> or by reaching out to Akshay Seetharam and Dhruv Chinmay at <aksseet@nuevaschool.org> and <dhrchin@nuevaschool.org>.\\n\\nThanks,\\nAkshay Seetharam and Dhruv Chinmay\\nCo-Leads of Nueva Trivia Club\")"
   ],
   "metadata": {
    "collapsed": false,
    "pycharm": {
     "name": "#%%\n"
    }
   }
  },
  {
   "cell_type": "code",
   "execution_count": 2,
   "outputs": [],
   "source": [],
   "metadata": {
    "collapsed": false,
    "pycharm": {
     "name": "#%%\n"
    }
   }
  }
 ],
 "metadata": {
  "kernelspec": {
   "display_name": "Python 3 (ipykernel)",
   "language": "python",
   "name": "python3"
  },
  "language_info": {
   "codemirror_mode": {
    "name": "ipython",
    "version": 3
   },
   "file_extension": ".py",
   "mimetype": "text/x-python",
   "name": "python",
   "nbconvert_exporter": "python",
   "pygments_lexer": "ipython3",
   "version": "3.9.10"
  }
 },
 "nbformat": 4,
 "nbformat_minor": 1
}